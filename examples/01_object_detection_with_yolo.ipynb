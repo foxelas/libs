{
 "cells": [
  {
   "cell_type": "code",
   "execution_count": 1,
   "id": "39a9ce19",
   "metadata": {},
   "outputs": [
    {
     "name": "stdout",
     "output_type": "stream",
     "text": [
      "Testing GPU settings...\n",
      "\n",
      "Check Torch version: 2.0.1+cu117\n",
      "GPU availability: True\n",
      "Using device: cuda\n",
      "CUDA version: 11.7\n",
      "Number of GPU devices: 1\n",
      "Name of current GPU: NVIDIA GeForce RTX 3060 Laptop GPU\n",
      "Memory Usage:\n",
      "Allocated: 0.0 GB\n",
      "Cached:    0.0 GB\n",
      "\n"
     ]
    },
    {
     "name": "stderr",
     "output_type": "stream",
     "text": [
      "DEBUG:tensorflow:Falling back to TensorFlow client; we recommended you install the Cloud TPU client directly with pip install cloud-tpu-client.\n"
     ]
    },
    {
     "name": "stdout",
     "output_type": "stream",
     "text": [
      "\n",
      "Check tensorflow version: 2.10.1\n",
      "Num GPUs Available:  1\n",
      "\n"
     ]
    }
   ],
   "source": [
    "from libs.foxutils.utils.monitoring_utils import test_gpu\n",
    "\n",
    "test_gpu()"
   ]
  },
  {
   "cell_type": "code",
   "execution_count": 2,
   "id": "e6630c60",
   "metadata": {},
   "outputs": [
    {
     "name": "stderr",
     "output_type": "stream",
     "text": [
      "DEBUG:matplotlib:matplotlib data path: C:\\Users\\foxel\\anaconda3\\envs\\EMIA-gpu\\lib\\site-packages\\matplotlib\\mpl-data\n",
      "DEBUG:matplotlib:CONFIGDIR=C:\\Users\\foxel\\.matplotlib\n",
      "DEBUG:matplotlib:interactive is False\n",
      "DEBUG:matplotlib:platform is win32\n",
      "DEBUG:matplotlib:CACHEDIR=C:\\Users\\foxel\\.matplotlib\n",
      "DEBUG:matplotlib.font_manager:Using fontManager instance from C:\\Users\\foxel\\.matplotlib\\fontlist-v330.json\n"
     ]
    },
    {
     "name": "stdout",
     "output_type": "stream",
     "text": [
      "Fusing layers... \n",
      "RepConv.fuse_repvgg_block\n",
      "RepConv.fuse_repvgg_block\n",
      "RepConv.fuse_repvgg_block\n",
      "IDetect.fuse\n"
     ]
    },
    {
     "name": "stderr",
     "output_type": "stream",
     "text": [
      "C:\\Users\\foxel\\anaconda3\\envs\\EMIA-gpu\\lib\\site-packages\\torch\\functional.py:504: UserWarning: torch.meshgrid: in an upcoming release, it will be required to pass the indexing argument. (Triggered internally at C:\\actions-runner\\_work\\pytorch\\pytorch\\builder\\windows\\pytorch\\aten\\src\\ATen\\native\\TensorShape.cpp:3484.)\n",
      "  return _VF.meshgrid(tensors, **kwargs)  # type: ignore[attr-defined]\n"
     ]
    }
   ],
   "source": [
    "from object_detection_with_yolo import detect_objects\n",
    "\n",
    "from os.path import join as pathjoin\n",
    "img_list = [ pathjoin('data', 'pills_1.jpg'), \n",
    "            pathjoin('data', 'pills_2.jpg'), \n",
    "            pathjoin('data', 'pills_3.jpg'), \n",
    "            pathjoin('data', 'toothbrush_1.jpg'), \n",
    "            pathjoin('data', 'toothbrush_2.jpg'), \n",
    "            pathjoin('data', 'toothbrush_3.jpg'), \n",
    "            pathjoin('data', 'suitcase.jpg'), \n",
    "            pathjoin('data', 'suitcase_2.jpg'), \n",
    "            pathjoin('data', 'cars_1.jpg')]\n",
    "\n",
    "detect_objects(img_list)"
   ]
  }
 ],
 "metadata": {
  "kernelspec": {
   "display_name": "Python 3 (ipykernel)",
   "language": "python",
   "name": "python3"
  },
  "language_info": {
   "codemirror_mode": {
    "name": "ipython",
    "version": 3
   },
   "file_extension": ".py",
   "mimetype": "text/x-python",
   "name": "python",
   "nbconvert_exporter": "python",
   "pygments_lexer": "ipython3",
   "version": "3.8.18"
  }
 },
 "nbformat": 4,
 "nbformat_minor": 5
}
