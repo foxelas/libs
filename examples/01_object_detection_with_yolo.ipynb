{
 "cells": [
  {
   "cell_type": "code",
   "execution_count": 1,
   "id": "39a9ce19",
   "metadata": {},
   "outputs": [
    {
     "name": "stdout",
     "output_type": "stream",
     "text": [
      "Testing GPU settings...\n",
      "\n",
      "Check Torch version: 1.13.1+cu117\n",
      "GPU availability: True\n",
      "Using device: cuda\n",
      "CUDA version: 11.7\n",
      "Number of GPU devices: 1\n",
      "Name of current GPU: NVIDIA GeForce RTX 3060 Laptop GPU\n",
      "Memory Usage:\n",
      "Allocated: 0.0 GB\n",
      "Cached:    0.0 GB\n",
      "\n",
      "\n",
      "Check tensorflow version: 2.10.1\n",
      "Num GPUs Available:  1\n",
      "\n"
     ]
    }
   ],
   "source": [
    "from libs.foxutils.utils.monitoring_utils import test_gpu\n",
    "\n",
    "test_gpu()"
   ]
  },
  {
   "cell_type": "code",
   "execution_count": 2,
   "id": "e6630c60",
   "metadata": {},
   "outputs": [
    {
     "name": "stderr",
     "output_type": "stream",
     "text": [
      "INFO:libs.yolov7.utils.torch_utils:YOLOR  57f4803 torch 1.13.1+cu117 CUDA:0 (NVIDIA GeForce RTX 3060 Laptop GPU, 6143.5MB)\n",
      "\n",
      "INFO:utils.object_detection:Load from D:\\git\\github\\EMIA__demo\\custom_models\\yolov7\\weights\\yolov7_training.pt\n"
     ]
    },
    {
     "name": "stdout",
     "output_type": "stream",
     "text": [
      "Fusing layers... \n"
     ]
    },
    {
     "name": "stderr",
     "output_type": "stream",
     "text": [
      "INFO:yolov7.utils.torch_utils:Model Summary: 314 layers, 36907898 parameters, 6194944 gradients\n",
      "INFO:utils.object_detection:New object detection model loaded from Yolov7 on device cuda:0. Model type <class 'models.yolo.Model'>.\n",
      "\n"
     ]
    },
    {
     "name": "stdout",
     "output_type": "stream",
     "text": [
      "RepConv.fuse_repvgg_block\n",
      "RepConv.fuse_repvgg_block\n",
      "RepConv.fuse_repvgg_block\n",
      "IDetect.fuse\n"
     ]
    },
    {
     "name": "stderr",
     "output_type": "stream",
     "text": [
      "D:\\git\\github\\EMIA\\venv\\lib\\site-packages\\torch\\functional.py:504: UserWarning: torch.meshgrid: in an upcoming release, it will be required to pass the indexing argument. (Triggered internally at C:\\actions-runner\\_work\\pytorch\\pytorch\\builder\\windows\\pytorch\\aten\\src\\ATen\\native\\TensorShape.cpp:3191.)\n",
      "  return _VF.meshgrid(tensors, **kwargs)  # type: ignore[attr-defined]\n",
      "INFO:utils.object_detection:Detecting objects in assets\\test.jpg\n"
     ]
    }
   ],
   "source": [
    "from libs.tools.object_detection import detect_from_img_list\n",
    "\n",
    "from os.path import join as pathjoin\n",
    "img_list = [ pathjoin('assets', 'test.jpg'), ]\n",
    "\n",
    "\n",
    "WEIGHTS_DIR = pathjoin(\"D:\\\\git\\\\github\\\\EMIA__demo\\\\custom_models\", \"yolov7\", \"weights\")\n",
    "YOLO_MODEL = pathjoin(WEIGHTS_DIR, \"yolov7_training\")\n",
    "    \n",
    "detect_from_img_list(img_list, save_img=True, save_txt=True, yolo_model=YOLO_MODEL)"
   ]
  }
 ],
 "metadata": {
  "kernelspec": {
   "display_name": "Python 3 (ipykernel)",
   "language": "python",
   "name": "python3"
  },
  "language_info": {
   "codemirror_mode": {
    "name": "ipython",
    "version": 3
   },
   "file_extension": ".py",
   "mimetype": "text/x-python",
   "name": "python",
   "nbconvert_exporter": "python",
   "pygments_lexer": "ipython3",
   "version": "3.9.0"
  }
 },
 "nbformat": 4,
 "nbformat_minor": 5
}
